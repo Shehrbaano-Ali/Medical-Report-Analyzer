{
 "cells": [
  {
   "cell_type": "markdown",
   "id": "575b43e2-2932-4e59-a486-09557c44f2da",
   "metadata": {},
   "source": [
    "## Test the Trained Model with a Sample Report\n",
    "\n",
    "This notebook demonstrates how to:\n",
    "- Load the saved multilabel classification model and vectorizer\n",
    "- Run a prediction on a sample diagnostic report\n",
    "- Display the predicted medical conditions"
   ]
  },
  {
   "cell_type": "code",
   "execution_count": 6,
   "id": "1e82fbab-7bf7-401c-bca9-996f7dfdb999",
   "metadata": {},
   "outputs": [
    {
     "name": "stdout",
     "output_type": "stream",
     "text": [
      "Predicted medical conditions: ['Hypertension', 'Asthma', 'Heart Disease', 'Obesity']\n"
     ]
    }
   ],
   "source": [
    "import joblib\n",
    "import numpy as np\n",
    "\n",
    "# Load model and vectorizer from saved files\n",
    "model = joblib.load(\"../models/multilabel_model.pkl\")\n",
    "vectorizer = joblib.load(\"../models/vectorizer.pkl\")\n",
    "\n",
    "# Update label names to match the number of labels your model was trained on (5 labels here)\n",
    "label_names = [\"Diabetes\", \"Hypertension\", \"Asthma\", \"Heart Disease\", \"Obesity\"]\n",
    "\n",
    "# Example input: you can change this text\n",
    "sample_report = \"The patient complains of shortness of breath and chest pain. Medical history includes heart disease and asthma.\"\n",
    "\n",
    "# Preprocess and vectorize input\n",
    "X_input = vectorizer.transform([sample_report])\n",
    "\n",
    "# Predict\n",
    "y_pred = model.predict(X_input)\n",
    "\n",
    "# Convert 0/1 output to label names\n",
    "predicted_labels = [label_names[i] for i in range(len(label_names)) if y_pred[0, i] == 1]\n",
    "\n",
    "# Show result\n",
    "print(\"Predicted medical conditions:\", predicted_labels)"
   ]
  },
  {
   "cell_type": "markdown",
   "id": "69c56643-7282-418f-8be2-0ca06c7a1b0e",
   "metadata": {},
   "source": [
    "## Testing with a Custom Report Input\n",
    "\n",
    "You can modify the `sample_report` below to try different diagnostic descriptions.\n",
    "\n",
    "In this example, the patient shows signs of high blood sugar and obesity.\n"
   ]
  },
  {
   "cell_type": "code",
   "execution_count": 7,
   "id": "c8e31325-14c0-4fc9-9440-c6e995cd3702",
   "metadata": {},
   "outputs": [
    {
     "name": "stdout",
     "output_type": "stream",
     "text": [
      "Predicted medical conditions: ['Hypertension', 'Asthma', 'Heart Disease', 'Obesity']\n"
     ]
    }
   ],
   "source": [
    "# Custom report input\n",
    "sample_report = \"The patient has high blood sugar levels and is overweight.\"\n",
    "\n",
    "# Vectorize and predict\n",
    "X_input = vectorizer.transform([sample_report])\n",
    "y_pred = model.predict(X_input)\n",
    "predicted_labels = [label_names[i] for i in range(len(label_names)) if y_pred[0, i] == 1]\n",
    "\n",
    "# Show prediction\n",
    "print(\"Predicted medical conditions:\", predicted_labels)"
   ]
  },
  {
   "cell_type": "code",
   "execution_count": null,
   "id": "ff33f941-90b8-4d7f-baa5-67de96af1793",
   "metadata": {},
   "outputs": [],
   "source": []
  }
 ],
 "metadata": {
  "kernelspec": {
   "display_name": "Python 3 (ipykernel)",
   "language": "python",
   "name": "python3"
  },
  "language_info": {
   "codemirror_mode": {
    "name": "ipython",
    "version": 3
   },
   "file_extension": ".py",
   "mimetype": "text/x-python",
   "name": "python",
   "nbconvert_exporter": "python",
   "pygments_lexer": "ipython3",
   "version": "3.12.3"
  }
 },
 "nbformat": 4,
 "nbformat_minor": 5
}
