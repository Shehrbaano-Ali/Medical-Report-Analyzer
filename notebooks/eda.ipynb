{
 "cells": [
  {
   "cell_type": "markdown",
   "id": "3069a45a-9938-40b7-88f2-16bc26a97b67",
   "metadata": {},
   "source": [
    "### Step 1: I want to load my medical reports dataset and view the first few rows\n"
   ]
  },
  {
   "cell_type": "code",
   "execution_count": 7,
   "id": "aef2d6e4-7061-4d61-8d42-e8aba0455e23",
   "metadata": {},
   "outputs": [
    {
     "name": "stdout",
     "output_type": "stream",
     "text": [
      "<class 'pandas.core.frame.DataFrame'>\n",
      "RangeIndex: 200 entries, 0 to 199\n",
      "Data columns (total 6 columns):\n",
      " #   Column        Non-Null Count  Dtype \n",
      "---  ------        --------------  ----- \n",
      " 0   report_text   200 non-null    object\n",
      " 1   diabetes      200 non-null    int64 \n",
      " 2   hypertension  200 non-null    int64 \n",
      " 3   pneumonia     200 non-null    int64 \n",
      " 4   asthma        200 non-null    int64 \n",
      " 5   arthritis     200 non-null    int64 \n",
      "dtypes: int64(5), object(1)\n",
      "memory usage: 9.5+ KB\n"
     ]
    },
    {
     "data": {
      "text/plain": [
       "Index(['report_text', 'diabetes', 'hypertension', 'pneumonia', 'asthma',\n",
       "       'arthritis'],\n",
       "      dtype='object')"
      ]
     },
     "execution_count": 7,
     "metadata": {},
     "output_type": "execute_result"
    }
   ],
   "source": [
    "import pandas as pd\n",
    "\n",
    "# Load dataset\n",
    "\n",
    "df = pd.read_csv('../data/medical_reports.csv')\n",
    "\n",
    "# Preview\n",
    "df.head()\n",
    "df.info()\n",
    "df.shape\n",
    "df.columns"
   ]
  },
  {
   "cell_type": "markdown",
   "id": "f8882fab-48c0-414f-9620-88d51c331faa",
   "metadata": {},
   "source": [
    "### Step 2: I want to check if there are any missing values or data type issues\n"
   ]
  },
  {
   "cell_type": "code",
   "execution_count": 10,
   "id": "77115724-71bd-458d-8b9b-b3e5b14d2207",
   "metadata": {},
   "outputs": [
    {
     "name": "stdout",
     "output_type": "stream",
     "text": [
      "<class 'pandas.core.frame.DataFrame'>\n",
      "RangeIndex: 200 entries, 0 to 199\n",
      "Data columns (total 6 columns):\n",
      " #   Column        Non-Null Count  Dtype \n",
      "---  ------        --------------  ----- \n",
      " 0   report_text   200 non-null    object\n",
      " 1   diabetes      200 non-null    int64 \n",
      " 2   hypertension  200 non-null    int64 \n",
      " 3   pneumonia     200 non-null    int64 \n",
      " 4   asthma        200 non-null    int64 \n",
      " 5   arthritis     200 non-null    int64 \n",
      "dtypes: int64(5), object(1)\n",
      "memory usage: 9.5+ KB\n"
     ]
    },
    {
     "data": {
      "text/plain": [
       "report_text     0\n",
       "diabetes        0\n",
       "hypertension    0\n",
       "pneumonia       0\n",
       "asthma          0\n",
       "arthritis       0\n",
       "dtype: int64"
      ]
     },
     "execution_count": 10,
     "metadata": {},
     "output_type": "execute_result"
    }
   ],
   "source": [
    "df.info()\n",
    "df.isnull().sum()\n"
   ]
  },
  {
   "cell_type": "markdown",
   "id": "35dc1513-2a74-409a-a43a-219f717a4144",
   "metadata": {},
   "source": [
    "### Step 3: I want to see how common each disease is in my dataset\n"
   ]
  },
  {
   "cell_type": "code",
   "execution_count": 11,
   "id": "04e9b2aa-1f3e-4944-9261-3973162da5e8",
   "metadata": {},
   "outputs": [
    {
     "data": {
      "text/plain": [
       "arthritis       112\n",
       "pneumonia       111\n",
       "hypertension    111\n",
       "asthma          109\n",
       "diabetes         92\n",
       "dtype: int64"
      ]
     },
     "execution_count": 11,
     "metadata": {},
     "output_type": "execute_result"
    }
   ],
   "source": [
    "df.iloc[:, 1:].sum().sort_values(ascending=False)\n"
   ]
  },
  {
   "cell_type": "markdown",
   "id": "a4ac2f1b-f322-41ad-83b1-ff3ecf53b8fa",
   "metadata": {},
   "source": [
    "### Step 4: I want to understand how long my medical reports are\n"
   ]
  },
  {
   "cell_type": "code",
   "execution_count": 12,
   "id": "67ee5921-026f-498e-87e6-f472b9e3b350",
   "metadata": {},
   "outputs": [
    {
     "data": {
      "text/plain": [
       "count    200.000000\n",
       "mean      43.995000\n",
       "std        2.692811\n",
       "min       40.000000\n",
       "25%       42.000000\n",
       "50%       44.000000\n",
       "75%       46.000000\n",
       "max       49.000000\n",
       "Name: report_text, dtype: float64"
      ]
     },
     "execution_count": 12,
     "metadata": {},
     "output_type": "execute_result"
    }
   ],
   "source": [
    "df['report_text'].apply(len).describe()\n"
   ]
  },
  {
   "cell_type": "markdown",
   "id": "d3723f0c-c622-4da0-a5ea-37ef200381a8",
   "metadata": {},
   "source": [
    "### Step 5: I want to read a few random reports to get a feel for the writing\n"
   ]
  },
  {
   "cell_type": "code",
   "execution_count": 13,
   "id": "ab83d60d-a538-47c6-9976-7b0c26cca387",
   "metadata": {},
   "outputs": [
    {
     "data": {
      "text/html": [
       "<div>\n",
       "<style scoped>\n",
       "    .dataframe tbody tr th:only-of-type {\n",
       "        vertical-align: middle;\n",
       "    }\n",
       "\n",
       "    .dataframe tbody tr th {\n",
       "        vertical-align: top;\n",
       "    }\n",
       "\n",
       "    .dataframe thead th {\n",
       "        text-align: right;\n",
       "    }\n",
       "</style>\n",
       "<table border=\"1\" class=\"dataframe\">\n",
       "  <thead>\n",
       "    <tr style=\"text-align: right;\">\n",
       "      <th></th>\n",
       "      <th>report_text</th>\n",
       "      <th>diabetes</th>\n",
       "      <th>hypertension</th>\n",
       "      <th>pneumonia</th>\n",
       "      <th>asthma</th>\n",
       "      <th>arthritis</th>\n",
       "    </tr>\n",
       "  </thead>\n",
       "  <tbody>\n",
       "    <tr>\n",
       "      <th>174</th>\n",
       "      <td>Reports wheezing and difficulty breathing.</td>\n",
       "      <td>0</td>\n",
       "      <td>0</td>\n",
       "      <td>1</td>\n",
       "      <td>1</td>\n",
       "      <td>1</td>\n",
       "    </tr>\n",
       "    <tr>\n",
       "      <th>72</th>\n",
       "      <td>Experiencing joint pain and inflammation.</td>\n",
       "      <td>1</td>\n",
       "      <td>1</td>\n",
       "      <td>1</td>\n",
       "      <td>0</td>\n",
       "      <td>0</td>\n",
       "    </tr>\n",
       "    <tr>\n",
       "      <th>171</th>\n",
       "      <td>Frequent coughing and low oxygen levels.</td>\n",
       "      <td>0</td>\n",
       "      <td>0</td>\n",
       "      <td>0</td>\n",
       "      <td>0</td>\n",
       "      <td>1</td>\n",
       "    </tr>\n",
       "  </tbody>\n",
       "</table>\n",
       "</div>"
      ],
      "text/plain": [
       "                                    report_text  diabetes  hypertension  \\\n",
       "174  Reports wheezing and difficulty breathing.         0             0   \n",
       "72    Experiencing joint pain and inflammation.         1             1   \n",
       "171    Frequent coughing and low oxygen levels.         0             0   \n",
       "\n",
       "     pneumonia  asthma  arthritis  \n",
       "174          1       1          1  \n",
       "72           1       0          0  \n",
       "171          0       0          1  "
      ]
     },
     "execution_count": 13,
     "metadata": {},
     "output_type": "execute_result"
    }
   ],
   "source": [
    "df.sample(3)\n"
   ]
  },
  {
   "cell_type": "markdown",
   "id": "df47ff76-ae23-4e06-b3cd-9cf7504bd5f5",
   "metadata": {},
   "source": [
    "### Step 6: Visualize Label Distribution (with matplotlib)"
   ]
  },
  {
   "cell_type": "code",
   "execution_count": 14,
   "id": "bb18dd52-6853-4678-a643-fd5d6685f349",
   "metadata": {},
   "outputs": [
    {
     "data": {
      "image/png": "[encoded data removed]",
      "text/plain": [
       "<Figure size 800x500 with 1 Axes>"
      ]
     },
     "metadata": {},
     "output_type": "display_data"
    }
   ],
   "source": [
    "# Step 6: Visualize label distribution\n",
    "\n",
    "import matplotlib.pyplot as plt\n",
    "\n",
    "label_counts = df.iloc[:, 1:].sum().sort_values(ascending=False)\n",
    "\n",
    "plt.figure(figsize=(8, 5))\n",
    "bars = plt.bar(label_counts.index, label_counts.values, color='skyblue')\n",
    "plt.title('Label Frequency in Medical Reports')\n",
    "plt.xlabel('Medical Condition')\n",
    "plt.ylabel('Number of Reports')\n",
    "plt.xticks(rotation=45)\n",
    "plt.grid(axis='y', linestyle='--', alpha=0.7)\n",
    "\n",
    "# Add value labels on bars\n",
    "for bar in bars:\n",
    "    yval = bar.get_height()\n",
    "    plt.text(bar.get_x() + bar.get_width()/2, yval + 1, int(yval), ha='center', va='bottom')\n",
    "\n",
    "plt.tight_layout()\n",
    "plt.show()\n"
   ]
  },
  {
   "cell_type": "code",
   "execution_count": null,
   "id": "d7938c39-079d-4d04-969f-f6003fe8e806",
   "metadata": {},
   "outputs": [],
   "source": []
  }
 ],
 "metadata": {
  "kernelspec": {
   "display_name": "Python 3 (ipykernel)",
   "language": "python",
   "name": "python3"
  },
  "language_info": {
   "codemirror_mode": {
    "name": "ipython",
    "version": 3
   },
   "file_extension": ".py",
   "mimetype": "text/x-python",
   "name": "python",
   "nbconvert_exporter": "python",
   "pygments_lexer": "ipython3",
   "version": "3.12.3"
  }
 },
 "nbformat": 4,
 "nbformat_minor": 5
}
