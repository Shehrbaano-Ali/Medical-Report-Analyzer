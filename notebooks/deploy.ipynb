{
 "cells": [
  {
   "cell_type": "markdown",
   "id": "cc688559-3bdb-4f5a-b183-9cc52ee3e0d8",
   "metadata": {},
   "source": [
    "### Step 1: Load model and vectorizer"
   ]
  },
  {
   "cell_type": "code",
   "execution_count": 2,
   "id": "a0a34963-11b8-4576-9532-5c71b52ed25b",
   "metadata": {},
   "outputs": [],
   "source": [
    "import joblib\n",
    "\n",
    "# Load trained model and vectorizer\n",
    "model = joblib.load(\"../models/multilabel_model.pkl\")\n",
    "vectorizer = joblib.load(\"../models/vectorizer.pkl\")\n"
   ]
  },
  {
   "cell_type": "markdown",
   "id": "f639fa4f-8898-4d54-b387-51922a5d8433",
   "metadata": {},
   "source": [
    "### Step 1: Save the Trained Model and Vectorizer"
   ]
  },
  {
   "cell_type": "code",
   "execution_count": 3,
   "id": "687abc4d-d977-4dc9-8b72-0b939a495b8f",
   "metadata": {},
   "outputs": [
    {
     "data": {
      "text/plain": [
       "['../models/vectorizer.pkl']"
      ]
     },
     "execution_count": 3,
     "metadata": {},
     "output_type": "execute_result"
    }
   ],
   "source": [
    "# Save the model\n",
    "joblib.dump(model, \"../models/multilabel_model.pkl\")\n",
    "\n",
    "# Save the vectorizer\n",
    "joblib.dump(vectorizer, \"../models/vectorizer.pkl\")"
   ]
  },
  {
   "cell_type": "code",
   "execution_count": null,
   "id": "a764d6c5-77da-462c-9f59-0fbe614c64f0",
   "metadata": {},
   "outputs": [],
   "source": []
  }
 ],
 "metadata": {
  "kernelspec": {
   "display_name": "Python 3 (ipykernel)",
   "language": "python",
   "name": "python3"
  },
  "language_info": {
   "codemirror_mode": {
    "name": "ipython",
    "version": 3
   },
   "file_extension": ".py",
   "mimetype": "text/x-python",
   "name": "python",
   "nbconvert_exporter": "python",
   "pygments_lexer": "ipython3",
   "version": "3.12.3"
  }
 },
 "nbformat": 4,
 "nbformat_minor": 5
}
