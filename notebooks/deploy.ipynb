{
 "cells": [
  {
   "cell_type": "markdown",
   "id": "cc688559-3bdb-4f5a-b183-9cc52ee3e0d8",
   "metadata": {},
   "source": [
    "### Step 1: Load model and vectorizer"
   ]
  },
  {
   "cell_type": "code",
   "execution_count": 6,
   "id": "a0a34963-11b8-4576-9532-5c71b52ed25b",
   "metadata": {},
   "outputs": [],
   "source": [
    "import joblib\n",
    "import pandas as pd\n",
    "\n",
    "# Load trained model and vectorizer\n",
    "model = joblib.load(\"../models/multilabel_model.pkl\")\n",
    "vectorizer = joblib.load(\"../models/vectorizer.pkl\")\n"
   ]
  },
  {
   "cell_type": "markdown",
   "id": "3556824b-a8a3-4849-bad8-207733b89255",
   "metadata": {},
   "source": [
    "### Step 2: Save the Trained Model and Vectorizer"
   ]
  },
  {
   "cell_type": "code",
   "execution_count": 7,
   "id": "687abc4d-d977-4dc9-8b72-0b939a495b8f",
   "metadata": {},
   "outputs": [
    {
     "data": {
      "text/plain": [
       "['../models/vectorizer.pkl']"
      ]
     },
     "execution_count": 7,
     "metadata": {},
     "output_type": "execute_result"
    }
   ],
   "source": [
    "# Save the model\n",
    "joblib.dump(model, \"../models/multilabel_model.pkl\")\n",
    "\n",
    "# Save the vectorizer\n",
    "joblib.dump(vectorizer, \"../models/vectorizer.pkl\")"
   ]
  },
  {
   "cell_type": "code",
   "execution_count": null,
   "id": "0ffd5afc-9d51-4a97-80ff-542a5dbeee23",
   "metadata": {},
   "outputs": [],
   "source": []
  },
  {
   "cell_type": "code",
   "execution_count": null,
   "id": "e6c9caed-7854-47b7-8e80-57a597cbf8b4",
   "metadata": {},
   "outputs": [],
   "source": []
  },
  {
   "cell_type": "markdown",
   "id": "292cbef5-d7bf-44dc-8196-4522f15c9676",
   "metadata": {},
   "source": [
    "### Step 3: Define a predict_labels function¶"
   ]
  },
  {
   "cell_type": "code",
   "execution_count": 8,
   "id": "4d836b01-3f48-4022-b5f1-e6268b655818",
   "metadata": {},
   "outputs": [],
   "source": [
    "def predict_labels(text):\n",
    "    \"\"\"\n",
    "    Predicts medical conditions from a diagnostic report.\n",
    "\n",
    "    Args:\n",
    "        text (str): Raw medical report text.\n",
    "\n",
    "    Returns:\n",
    "        list: Predicted labels.\n",
    "    \"\"\"\n",
    "    # Preprocess\n",
    "    cleaned_text = text.lower().replace('\\n', ' ')\n",
    "\n",
    "    # Vectorize\n",
    "    vectorized_input = vectorizer.transform([cleaned_text])\n",
    "\n",
    "    # Predict (binary multilabel)\n",
    "    preds = model.predict(vectorized_input)[0]\n",
    "\n",
    "    # Map 0/1 back to label names\n",
    "    df = pd.read_csv(\"../data/medical_reports.csv\")\n",
    "    labels = df.columns[1:]\n",
    "\n",
    "    predicted_labels = [label for label, val in zip(labels, preds) if val == 1]\n",
    "\n",
    "    return predicted_labels\n"
   ]
  },
  {
   "cell_type": "code",
   "execution_count": 9,
   "id": "b6b7bbba-934c-42c1-aeb2-ec4b9003b621",
   "metadata": {},
   "outputs": [
    {
     "data": {
      "text/plain": [
       "['hypertension', 'pneumonia', 'arthritis']"
      ]
     },
     "execution_count": 9,
     "metadata": {},
     "output_type": "execute_result"
    }
   ],
   "source": [
    "example = \"Patient reports increased thirst, frequent urination, and blurred vision.\"\n",
    "predict_labels(example)\n"
   ]
  },
  {
   "cell_type": "markdown",
   "id": "81156a4d-60c5-482c-8edb-e480a74a04a7",
   "metadata": {},
   "source": [
    "\n",
    "\n",
    "\n",
    "\n",
    "\n",
    "# NOTEBOOK 5: Deploy the Model\n",
    "\n",
    "In this notebook, I simulate real-world deployment steps by:\n",
    "\n",
    "- Saving the trained multilabel classification model and vectorizer using `joblib`\n",
    "- Defining a `predict_labels()` function to make predictions on new medical report text\n",
    "- Demonstrating predictions on a new example input\n",
    "- (Optional) Added explainability using SHAP in a later section\n",
    "\n",
    "This notebook completes the full pipeline from EDA to deployment.\n"
   ]
  },
  {
   "cell_type": "code",
   "execution_count": null,
   "id": "6802f7a2-becc-4be7-9426-8dc41826fc30",
   "metadata": {},
   "outputs": [],
   "source": []
  }
 ],
 "metadata": {
  "kernelspec": {
   "display_name": "Python 3 (ipykernel)",
   "language": "python",
   "name": "python3"
  },
  "language_info": {
   "codemirror_mode": {
    "name": "ipython",
    "version": 3
   },
   "file_extension": ".py",
   "mimetype": "text/x-python",
   "name": "python",
   "nbconvert_exporter": "python",
   "pygments_lexer": "ipython3",
   "version": "3.12.3"
  }
 },
 "nbformat": 4,
 "nbformat_minor": 5
}
