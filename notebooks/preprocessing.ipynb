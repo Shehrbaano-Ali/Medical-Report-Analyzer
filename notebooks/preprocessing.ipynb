{
 "cells": [
  {
   "cell_type": "markdown",
   "id": "615058c8-4e32-482b-b9e5-5ed15311742d",
   "metadata": {},
   "source": [
    "### Step 1: Load the medical reports dataset for preprocessing\n"
   ]
  },
  {
   "cell_type": "code",
   "execution_count": 1,
   "id": "ca161174-e991-4671-b5bf-3b3d9701a29c",
   "metadata": {},
   "outputs": [
    {
     "data": {
      "text/html": [
       "<div>\n",
       "<style scoped>\n",
       "    .dataframe tbody tr th:only-of-type {\n",
       "        vertical-align: middle;\n",
       "    }\n",
       "\n",
       "    .dataframe tbody tr th {\n",
       "        vertical-align: top;\n",
       "    }\n",
       "\n",
       "    .dataframe thead th {\n",
       "        text-align: right;\n",
       "    }\n",
       "</style>\n",
       "<table border=\"1\" class=\"dataframe\">\n",
       "  <thead>\n",
       "    <tr style=\"text-align: right;\">\n",
       "      <th></th>\n",
       "      <th>report_text</th>\n",
       "      <th>diabetes</th>\n",
       "      <th>hypertension</th>\n",
       "      <th>pneumonia</th>\n",
       "      <th>asthma</th>\n",
       "      <th>arthritis</th>\n",
       "    </tr>\n",
       "  </thead>\n",
       "  <tbody>\n",
       "    <tr>\n",
       "      <th>0</th>\n",
       "      <td>Experiencing joint pain and inflammation.</td>\n",
       "      <td>1</td>\n",
       "      <td>1</td>\n",
       "      <td>0</td>\n",
       "      <td>1</td>\n",
       "      <td>1</td>\n",
       "    </tr>\n",
       "    <tr>\n",
       "      <th>1</th>\n",
       "      <td>Reports numbness in limbs and blurred vision.</td>\n",
       "      <td>1</td>\n",
       "      <td>0</td>\n",
       "      <td>0</td>\n",
       "      <td>1</td>\n",
       "      <td>0</td>\n",
       "    </tr>\n",
       "    <tr>\n",
       "      <th>2</th>\n",
       "      <td>Patient reports shortness of breath and coughing.</td>\n",
       "      <td>0</td>\n",
       "      <td>1</td>\n",
       "      <td>0</td>\n",
       "      <td>0</td>\n",
       "      <td>1</td>\n",
       "    </tr>\n",
       "    <tr>\n",
       "      <th>3</th>\n",
       "      <td>Reports wheezing and difficulty breathing.</td>\n",
       "      <td>1</td>\n",
       "      <td>0</td>\n",
       "      <td>0</td>\n",
       "      <td>1</td>\n",
       "      <td>1</td>\n",
       "    </tr>\n",
       "    <tr>\n",
       "      <th>4</th>\n",
       "      <td>Complains of frequent urination and thirst.</td>\n",
       "      <td>0</td>\n",
       "      <td>1</td>\n",
       "      <td>0</td>\n",
       "      <td>1</td>\n",
       "      <td>0</td>\n",
       "    </tr>\n",
       "  </tbody>\n",
       "</table>\n",
       "</div>"
      ],
      "text/plain": [
       "                                         report_text  diabetes  hypertension  \\\n",
       "0          Experiencing joint pain and inflammation.         1             1   \n",
       "1      Reports numbness in limbs and blurred vision.         1             0   \n",
       "2  Patient reports shortness of breath and coughing.         0             1   \n",
       "3         Reports wheezing and difficulty breathing.         1             0   \n",
       "4        Complains of frequent urination and thirst.         0             1   \n",
       "\n",
       "   pneumonia  asthma  arthritis  \n",
       "0          0       1          1  \n",
       "1          0       1          0  \n",
       "2          0       0          1  \n",
       "3          0       1          1  \n",
       "4          0       1          0  "
      ]
     },
     "execution_count": 1,
     "metadata": {},
     "output_type": "execute_result"
    }
   ],
   "source": [
    "import pandas as pd\n",
    "\n",
    "df = pd.read_csv('../data/medical_reports.csv')\n",
    "df.head()\n"
   ]
  },
  {
   "cell_type": "markdown",
   "id": "5daddfe8-6895-4020-93e0-e63907ae6e8d",
   "metadata": {},
   "source": [
    "### Step 2: Clean the report text by lowercasing and removing newlines\n"
   ]
  },
  {
   "cell_type": "code",
   "execution_count": 2,
   "id": "cbd39900-0f31-429a-8118-8ef19c4df574",
   "metadata": {},
   "outputs": [
    {
     "data": {
      "text/plain": [
       "'experiencing joint pain and inflammation.'"
      ]
     },
     "execution_count": 2,
     "metadata": {},
     "output_type": "execute_result"
    }
   ],
   "source": [
    "df['report_text'] = df['report_text'].str.lower().str.replace('\\n', ' ', regex=True)\n",
    "df['report_text'].iloc[0]\n"
   ]
  },
  {
   "cell_type": "markdown",
   "id": "316c8a46-8e50-4f55-b312-6cd47e0f3958",
   "metadata": {},
   "source": [
    "### Step 3: Extract the multilabel targets for model training\n"
   ]
  },
  {
   "cell_type": "code",
   "execution_count": 3,
   "id": "0e6d333e-8395-42cb-97a2-f132e941653d",
   "metadata": {},
   "outputs": [
    {
     "data": {
      "text/html": [
       "<div>\n",
       "<style scoped>\n",
       "    .dataframe tbody tr th:only-of-type {\n",
       "        vertical-align: middle;\n",
       "    }\n",
       "\n",
       "    .dataframe tbody tr th {\n",
       "        vertical-align: top;\n",
       "    }\n",
       "\n",
       "    .dataframe thead th {\n",
       "        text-align: right;\n",
       "    }\n",
       "</style>\n",
       "<table border=\"1\" class=\"dataframe\">\n",
       "  <thead>\n",
       "    <tr style=\"text-align: right;\">\n",
       "      <th></th>\n",
       "      <th>diabetes</th>\n",
       "      <th>hypertension</th>\n",
       "      <th>pneumonia</th>\n",
       "      <th>asthma</th>\n",
       "      <th>arthritis</th>\n",
       "    </tr>\n",
       "  </thead>\n",
       "  <tbody>\n",
       "    <tr>\n",
       "      <th>0</th>\n",
       "      <td>1</td>\n",
       "      <td>1</td>\n",
       "      <td>0</td>\n",
       "      <td>1</td>\n",
       "      <td>1</td>\n",
       "    </tr>\n",
       "    <tr>\n",
       "      <th>1</th>\n",
       "      <td>1</td>\n",
       "      <td>0</td>\n",
       "      <td>0</td>\n",
       "      <td>1</td>\n",
       "      <td>0</td>\n",
       "    </tr>\n",
       "    <tr>\n",
       "      <th>2</th>\n",
       "      <td>0</td>\n",
       "      <td>1</td>\n",
       "      <td>0</td>\n",
       "      <td>0</td>\n",
       "      <td>1</td>\n",
       "    </tr>\n",
       "    <tr>\n",
       "      <th>3</th>\n",
       "      <td>1</td>\n",
       "      <td>0</td>\n",
       "      <td>0</td>\n",
       "      <td>1</td>\n",
       "      <td>1</td>\n",
       "    </tr>\n",
       "    <tr>\n",
       "      <th>4</th>\n",
       "      <td>0</td>\n",
       "      <td>1</td>\n",
       "      <td>0</td>\n",
       "      <td>1</td>\n",
       "      <td>0</td>\n",
       "    </tr>\n",
       "  </tbody>\n",
       "</table>\n",
       "</div>"
      ],
      "text/plain": [
       "   diabetes  hypertension  pneumonia  asthma  arthritis\n",
       "0         1             1          0       1          1\n",
       "1         1             0          0       1          0\n",
       "2         0             1          0       0          1\n",
       "3         1             0          0       1          1\n",
       "4         0             1          0       1          0"
      ]
     },
     "execution_count": 3,
     "metadata": {},
     "output_type": "execute_result"
    }
   ],
   "source": [
    "labels = df.columns[1:]\n",
    "y = df[labels]\n",
    "y.head()\n"
   ]
  },
  {
   "cell_type": "markdown",
   "id": "4c035730-c3f8-4a70-8f6b-b7b2126ddb8f",
   "metadata": {},
   "source": [
    "### Step 4: Convert text into numeric features using TF-IDF\n"
   ]
  },
  {
   "cell_type": "code",
   "execution_count": 4,
   "id": "f3e37b53-6fce-4bb5-b759-0419001cfe87",
   "metadata": {},
   "outputs": [
    {
     "data": {
      "text/plain": [
       "(200, 42)"
      ]
     },
     "execution_count": 4,
     "metadata": {},
     "output_type": "execute_result"
    }
   ],
   "source": [
    "from sklearn.feature_extraction.text import TfidfVectorizer\n",
    "\n",
    "vectorizer = TfidfVectorizer(max_features=1000)\n",
    "X = vectorizer.fit_transform(df['report_text'])\n",
    "X.shape\n"
   ]
  },
  {
   "cell_type": "markdown",
   "id": "ecc6932c-3dc3-4867-a6c5-27c8a03ce45f",
   "metadata": {},
   "source": [
    "### Step 5: View some feature names from TF-IDF for insight\n"
   ]
  },
  {
   "cell_type": "code",
   "execution_count": 5,
   "id": "2945a588-b33c-4cef-b155-88b17f6d265c",
   "metadata": {},
   "outputs": [
    {
     "data": {
      "text/plain": [
       "array(['and', 'blood', 'blurred', 'breath', 'breathing', 'chest',\n",
       "       'complains', 'coughing', 'difficulty', 'experiencing', 'fatigue',\n",
       "       'fever', 'frequent', 'has', 'headaches', 'high', 'in', 'include',\n",
       "       'inflammation', 'joint'], dtype=object)"
      ]
     },
     "execution_count": 5,
     "metadata": {},
     "output_type": "execute_result"
    }
   ],
   "source": [
    "vectorizer.get_feature_names_out()[:20]\n"
   ]
  },
  {
   "cell_type": "markdown",
   "id": "c8a3ed08-776c-43dc-8a1b-5fb10d7f76eb",
   "metadata": {},
   "source": [
    "### Step 6: Confirm shape of X and y for modeling\n"
   ]
  },
  {
   "cell_type": "code",
   "execution_count": null,
   "id": "52fcd4eb-234e-4176-a619-8d2ae1d9f950",
   "metadata": {},
   "outputs": [],
   "source": []
  }
 ],
 "metadata": {
  "kernelspec": {
   "display_name": "Python 3 (ipykernel)",
   "language": "python",
   "name": "python3"
  },
  "language_info": {
   "codemirror_mode": {
    "name": "ipython",
    "version": 3
   },
   "file_extension": ".py",
   "mimetype": "text/x-python",
   "name": "python",
   "nbconvert_exporter": "python",
   "pygments_lexer": "ipython3",
   "version": "3.12.3"
  }
 },
 "nbformat": 4,
 "nbformat_minor": 5
}
